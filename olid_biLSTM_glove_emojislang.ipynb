{
 "metadata": {
  "language_info": {
   "codemirror_mode": {
    "name": "ipython",
    "version": 3
   },
   "file_extension": ".py",
   "mimetype": "text/x-python",
   "name": "python",
   "nbconvert_exporter": "python",
   "pygments_lexer": "ipython3",
   "version": "3.9.7"
  },
  "orig_nbformat": 2,
  "kernelspec": {
   "name": "python397jvsc74a57bd0f1cd6fa187f75416e22a91ec71c95b3d72c0eb3110f2cc060653dcaa47999e2a",
   "display_name": "Python 3.9.7 64-bit ('tfnlp': conda)"
  },
  "metadata": {
   "interpreter": {
    "hash": "f1cd6fa187f75416e22a91ec71c95b3d72c0eb3110f2cc060653dcaa47999e2a"
   }
  }
 },
 "nbformat": 4,
 "nbformat_minor": 2,
 "cells": [
  {
   "cell_type": "code",
   "execution_count": 7,
   "metadata": {},
   "outputs": [
    {
     "output_type": "stream",
     "name": "stderr",
     "text": [
      "[nltk_data] Downloading package stopwords to\n[nltk_data]     /Users/saumyamehta/nltk_data...\n[nltk_data]   Package stopwords is already up-to-date!\n[nltk_data] Downloading package wordnet to\n[nltk_data]     /Users/saumyamehta/nltk_data...\n[nltk_data]   Package wordnet is already up-to-date!\n"
     ]
    }
   ],
   "source": [
    "import os\n",
    "import re\n",
    "import numpy as np\n",
    "import pandas as pd\n",
    "import sklearn\n",
    "from sklearn.utils import shuffle\n",
    "\n",
    "from sklearn.metrics import accuracy_score\n",
    "from sklearn.metrics import f1_score\n",
    "from sklearn.metrics import precision_score\n",
    "from sklearn.metrics import recall_score\n",
    "from sklearn.metrics import confusion_matrix\n",
    "\n",
    "import nltk\n",
    "from nltk.tokenize import word_tokenize\n",
    "from nltk.corpus import stopwords\n",
    "from nltk.stem import WordNetLemmatizer\n",
    "nltk.download('stopwords')\n",
    "nltk.download('wordnet')\n",
    "\n",
    "from tensorboard.plugins.hparams import api as hp\n",
    "\n",
    "from scipy.sparse import csr_matrix\n",
    "from collections import Counter\n",
    "from sklearn.model_selection import train_test_split\n",
    "import tensorflow as tf\n",
    "from tensorflow.keras.preprocessing.text import Tokenizer\n",
    "from tensorflow.keras.preprocessing.sequence import pad_sequences\n",
    "from tensorflow.keras import backend as K\n",
    "from tensorflow.keras.metrics import Precision, Recall\n",
    "from sklearn.utils import class_weight\n",
    "from tensorflow.keras.layers import LSTM,Embedding,Dense,Dropout,Bidirectional,GlobalMaxPool1D,GlobalAveragePooling1D, SpatialDropout1D\n",
    "\n",
    "import emoji"
   ]
  },
  {
   "cell_type": "code",
   "execution_count": 8,
   "metadata": {},
   "outputs": [],
   "source": [
    "olid_data = pd.read_csv(\"data/OLIDv1/olid-training-v1.0.tsv\", sep='\\t')\n"
   ]
  },
  {
   "source": [
    "Emoji to text conversion"
   ],
   "cell_type": "markdown",
   "metadata": {}
  },
  {
   "cell_type": "code",
   "execution_count": 9,
   "metadata": {},
   "outputs": [],
   "source": [
    "def emoji_to_text(s):\n",
    "    s = emoji.demojize(s)\n",
    "    s = s.replace(':',' ')\n",
    "    s = s.replace('_',' ')    \n",
    "    s = ' '.join(s.split())\n",
    "    return s"
   ]
  },
  {
   "cell_type": "code",
   "execution_count": 10,
   "metadata": {},
   "outputs": [
    {
     "output_type": "execute_result",
     "data": {
      "text/plain": [
       "'@USER He is all grown up loudly crying face loudly crying face loudly crying face'"
      ]
     },
     "metadata": {},
     "execution_count": 10
    }
   ],
   "source": [
    "# small sentence demo for emoji to text\n",
    "s = '@USER He is all grown up😭😭😭'\n",
    "emoji_to_text(s)"
   ]
  },
  {
   "source": [
    "Twitter slang to formal text conversion"
   ],
   "cell_type": "markdown",
   "metadata": {}
  },
  {
   "cell_type": "code",
   "execution_count": 11,
   "metadata": {},
   "outputs": [],
   "source": [
    "# loading twitter slang data\n",
    "slang_df = pd.read_csv('data/twitterSlang.csv')\n",
    "slang_dict = dict(zip(slang_df.slang, slang_df.formal_translation))"
   ]
  },
  {
   "cell_type": "code",
   "execution_count": 12,
   "metadata": {},
   "outputs": [],
   "source": [
    "def fix_slang(s):\n",
    "    s_list = s.split()\n",
    "    new_s_list = []\n",
    "    for word in s_list:\n",
    "        if word in slang_dict.keys():\n",
    "            new_s_list.append(slang_dict[word])\n",
    "        else:\n",
    "            new_s_list.append(word)\n",
    "            \n",
    "    return ' '.join(new_s_list)"
   ]
  },
  {
   "cell_type": "code",
   "execution_count": 13,
   "metadata": {},
   "outputs": [
    {
     "output_type": "execute_result",
     "data": {
      "text/plain": [
       "\"I'll fix this asap. be right back\""
      ]
     },
     "metadata": {},
     "execution_count": 13
    }
   ],
   "source": [
    "# small example of slang removal\n",
    "s = \"I'll fix this asap. brb\"\n",
    "fix_slang(s)"
   ]
  },
  {
   "cell_type": "code",
   "execution_count": 14,
   "metadata": {},
   "outputs": [
    {
     "output_type": "stream",
     "name": "stdout",
     "text": [
      "X train shape: (13240,), y train shape: (13240,)\n"
     ]
    }
   ],
   "source": [
    "X_train = olid_data.tweet\n",
    "y_train = pd.factorize(olid_data.subtask_a)[0]\n",
    "\n",
    "X_test=pd.read_csv('data/OLIDv1/testset-levela.tsv',sep=\"\\t\").tweet\n",
    "y_test=pd.read_csv( 'data/OLIDv1/labels-levela.csv',header=None).iloc[:,-1]\n",
    "y_test = pd.factorize(y_test)[0]\n",
    "import collections\n",
    "collections.Counter(y_train)\n",
    "print(f'X train shape: {X_train.shape}, y train shape: {y_train.shape}')\n"
   ]
  },
  {
   "source": [
    "Splitting data into train hold out sets.\n",
    "Our split will be 80% train, 20% validation "
   ],
   "cell_type": "markdown",
   "metadata": {}
  },
  {
   "cell_type": "code",
   "execution_count": 15,
   "metadata": {},
   "outputs": [
    {
     "output_type": "stream",
     "name": "stdout",
     "text": [
      "X train shape: (10592,), y train shape: (10592,)\nX valid shape: (2648,), y valid shape: (2648,)\nX valid shape: (860,), y test shape: (860,)\n"
     ]
    }
   ],
   "source": [
    "X_train, X_valid, y_train, y_valid = train_test_split(X_train,y_train,test_size=0.2, random_state=42)\n",
    "# check shapes of train, test and validation data\n",
    "print(f'X train shape: {X_train.shape}, y train shape: {y_train.shape}')\n",
    "print(f'X valid shape: {X_valid.shape}, y valid shape: {y_valid.shape}')\n",
    "print(f'X valid shape: {X_test.shape}, y test shape: {y_test.shape}')\n"
   ]
  },
  {
   "source": [
    "Data preprocessing. "
   ],
   "cell_type": "markdown",
   "metadata": {}
  },
  {
   "cell_type": "code",
   "execution_count": 16,
   "metadata": {},
   "outputs": [],
   "source": [
    "def preprocess(sent, lemmatizer, stop_words):\n",
    "    \n",
    "    alphabet = \"abcdefghijklmnopqrstuvwxyz 0123456789',.\"\n",
    "    emojis = ''.join(c for c in sent if c in emoji.UNICODE_EMOJI['en'])\n",
    "    alphabet = alphabet + emojis\n",
    "    #sent = emoji_to_text(sent)\n",
    "    sent = fix_slang(sent)\n",
    "    sent = sent.lower()\n",
    "    sent = sent.replace('@user','')\n",
    "    sent = sent.replace('@[\\w\\-]+','')\n",
    "\n",
    "    cleaned_sent_list = [char if char in alphabet else ' ' for char in sent] # remove all tags not in the alphabet\n",
    "\n",
    "    cleaned_sent = ''.join(cleaned_sent_list)\n",
    "    cleaned_sent_list = [lemmatizer.lemmatize(token) for token in cleaned_sent.split(\" \")]\n",
    "    cleaned_sent_list = [word for word in cleaned_sent_list if not word in stop_words]\n",
    "    cleaned_sent = ' '.join(cleaned_sent_list)\n",
    "    cleaned_sent = cleaned_sent.replace(\"n't\",' not') # replace words like \"isn't\" with \"is not\"\n",
    "    cleaned_sent = ' . '.join([x for x in cleaned_sent.split('.') if len(x)>0]) # remove multiple periods, and add spaces before and after a period\n",
    "    cleaned_sent = ' , '.join([x for x in cleaned_sent.split(',') if len(x)>0]) # add spaces before and after a comma\n",
    "    cleaned_sent = ' '.join(cleaned_sent.split()) # remove multiple spaces\n",
    "    \n",
    "    return cleaned_sent"
   ]
  },
  {
   "cell_type": "code",
   "execution_count": 17,
   "metadata": {},
   "outputs": [],
   "source": [
    "\n",
    "stop_words = set(stopwords.words(\"english\")) \n",
    "lemmatizer = WordNetLemmatizer()\n",
    "data_train = [preprocess(tweet,lemmatizer,stop_words) for tweet in X_train]\n",
    "data_valid = [preprocess(tweet,lemmatizer,stop_words) for tweet in X_valid]\n",
    "data_test = [preprocess(tweet,lemmatizer,stop_words) for tweet in X_test]"
   ]
  },
  {
   "source": [
    "Emoji and twitter slang"
   ],
   "cell_type": "markdown",
   "metadata": {}
  },
  {
   "cell_type": "code",
   "execution_count": 18,
   "metadata": {},
   "outputs": [
    {
     "output_type": "execute_result",
     "data": {
      "text/plain": [
       "('😂🤣😂🤣😂👍👌 thats good one . never knew antifa badasses . 😂😂😂😂👍 need comedy special 🤣😂🤣😂',\n",
       " 'john kerry running mouth cared ha say think single damn thing kerry ha accomplished besides run mouth . trump accomplishment exceed anything kerry could ever dream of . even becoming president',\n",
       " 'whoisq wherestheserver dumpnike declasfisa democrat support antifa , muslim brotherhood , ms13 , isis , pedophilia , child trafficking , taxpayer funded abortion s , election fraud , sedition treason lockthemallup wwg1wga qanon url')"
      ]
     },
     "metadata": {},
     "execution_count": 18
    }
   ],
   "source": [
    "data_train[20], data_valid[0], data_test[0]"
   ]
  },
  {
   "cell_type": "code",
   "execution_count": 19,
   "metadata": {},
   "outputs": [],
   "source": [
    "vocab_size = 10000\n",
    "embedding_size = 300\n",
    "lstm_output_dim = 32\n",
    "max_length = 200\n",
    "trunc_type='post'\n",
    "padding_type='post'\n",
    "oov_tok = \"<UNK>\""
   ]
  },
  {
   "source": [
    "Tokenisation and padding for sentences\n"
   ],
   "cell_type": "markdown",
   "metadata": {}
  },
  {
   "cell_type": "code",
   "execution_count": 20,
   "metadata": {
    "tags": [
     "outputPrepend"
    ]
   },
   "outputs": [
    {
     "output_type": "stream",
     "name": "stdout",
     "text": [
      "5891, 'midterms2018': 15892, '1ab': 15893, 'usmc': 15894, 'navy': 15895, 'airforce': 15896, 'jealousy': 15897, 'favored': 15898, 'victimhood': 15899, 'parlaying': 15900, 'bnp': 15901, 'somerset': 15902, 'chester': 15903, 'burnley': 15904, 'halifax': 15905, 'invert': 15906, 'urself': 15907, 'sequel': 15908, 'dceu': 15909, 'irreversibly': 15910, 'yyyy': 15911, 'steepppp': 15912, 'themfaux': 15913, 'tainted': 15914, 'noise': 15915, 'adviser': 15916, 'discouraging': 15917, 'miller👌': 15918, 'steps': 15919, \"'out'\": 15920, \"'info'\": 15921, 'actualy': 15922, 'becareful': 15923, 'sooooo': 15924, 'appropo': 15925, 'impart': 15926, 'selfies': 15927, 'ousted': 15928, 'resulting': 15929, 'disguise': 15930, 'stylistic': 15931, 'prioritise': 15932, 'discretion': 15933, 'ambiguity': 15934, 'shocktroops': 15935, 'francisco': 15936, 'pleasant': 15937, 'frend': 15938, 'yoll': 15939, 'torn': 15940, 'consternation': 15941, 'mccaskill': 15942, 'squabbles': 15943, 'foulmouthed': 15944, 'rapper': 15945, 'ambassador': 15946, 'brazen': 15947, 'votethemallout': 15948, 'sshh': 15949, '🙊': 15950, 'lying😏😅😭😂': 15951, 'doofus': 15952, 'pyro': 15953, 'tf2': 15954, '0c': 15955, 'changer': 15956, 'makeithappen': 15957, 'painted': 15958, 'bcpoli': 15959, 'ontpoli': 15960, 'alpoli': 15961, 'gardens💕but': 15962, 'children💞why': 15963, 'garden🙏💕': 15964, 'humidity': 15965, 'apparantly': 15966, 'baselessly': 15967, 'classmate': 15968, 'congratulaions': 15969, 'tacobellanotherkindoffood': 15970, 'saysitall': 15971, 'iamone': 15972, 'desecrate': 15973, 'awesomeness': 15974, '👉🏻': 15975, '🕊': 15976, 'beagle': 15977, 'lodge': 15978, 'duped': 15979, 'wp': 15980, 'als': 15981, 'novice': 15982, 'outshined': 15983, 'peppermint': 15984, 'cerberus': 15985, 'dante': 15986, 'reps': 15987, 'is😭😭😭': 15988, 'twitterpurge': 15989, '✅am': 15990, 'loses75': 15991, 'daily😡': 15992, 'twittercensorship': 15993, 'wanda': 15994, 'okai': 15995, 'kanebrown': 15996, 'westandtogether': 15997, 'ricardo': 15998, 'rosello': 15999, 'rosell': 16000, 'taketworeferenceswithmoniqueandchloe': 16001, 'boatload': 16002, 'soooooounds': 16003, 'medi': 16004, 'cart': 16005, 'fairway': 16006, 'swore': 16007, 'moan': 16008, 'lskar': 16009, 'sverige😍💙💛': 16010, 'bo2': 16011, 'cod': 16012, 'atrocious': 16013, 'satisfying': 16014, 'howk': 16015, 'badger': 16016, 'firemorningjoe': 16017, '1001': 16018, 'universally': 16019, 'bauble': 16020, 'denigrating': 16021, 'fought4': 16022, 'inseparable': 16023, '2defend': 16024, 'canelo': 16025, 'charlo': 16026, 'hurd': 16027, 'stcshooting': 16028, 'kneejerk': 16029, 'restrictive': 16030, 'implant': 16031, 'correctly': 16032, '😍😍😍😍😗😗😗😗😗': 16033, 'lgbqt': 16034, 'guti': 16035, 'rrez': 16036, 'liberalismcausesmentalretardation': 16037, 'eotp': 16038, 'intitled': 16039, 'progressing': 16040, 'reads': 16041, 'invaded': 16042, 'memelord': 16043, 'can🤣': 16044, 'leftwingliberaldisease': 16045, 'key🙌🏻': 16046, 'shush': 16047, 'victoriasecrets': 16048, '🙄🙄🙄': 16049, 'planted': 16050, 'imbalanced': 16051, 'ballots': 16052, '👌🏼❤': 16053, '🦅love': 16054, 'kookoo': 16055, 'espacily': 16056, 'chapter': 16057, 'palpitation': 16058, 'hooligan': 16059, 'ratio': 16060, 'fundamental': 16061, 'resources': 16062, 'dos': 16063, 'antifaareterrorists': 16064, 'whataboutism': 16065, 'empoundment': 16066, 'allaying': 16067, 'hinge': 16068, 'reorganize': 16069, 'brac': 16070, 'copycat': 16071, 'theist': 16072, 'yecs': 16073, 'distinguishing': 16074, 'ay': 16075, 'harambe': 16076, 'silverback': 16077, 'cease': 16078, '92': 16079, 'conniving': 16080, 'intimidating': 16081, 'prc': 16082, 'vested': 16083, 'bucket': 16084, 'rocks': 16085, 'oresident': 16086, 'gullibility': 16087, 'fridge': 16088, 'ittabloid': 16089, 'thinkin': 16090, 'psychiatrist': 16091, 'congratulate': 16092, 'qualifications': 16093, 'tweep': 16094, 'brutally': 16095, 'beatin': 16096, 'inconceivable': 16097, 'meddle': 16098, 'peacemaker': 16099, 'jam': 16100, 'recruitment': 16101, 'tent': 16102, \"m80's\": 16103, 'dummies': 16104, 'twit': 16105, 'misread': 16106, 'diversion': 16107, 'dottering': 16108, '299': 16109, 'chlorine': 16110, \"c'mon\": 16111, 'myers': 16112, 'wynn': 16113, 'smithsgrove': 16114, 'thorn': 16115, 'madman': 16116, '👏🏻👏🏻': 16117, 'teacherlife': 16118, 'prayalloftheprayers': 16119, 'nun': 16120, 'convention': 16121, 'hollowing': 16122, 'kop': 16123, 'atmosphere': 16124, 'kenny': 16125, 'backwood': 16126, 'irritating': 16127, 'brad': 16128, 'scripture': 16129, 'consuming': 16130, 'theonomists': 16131, \"country's\": 16132, 'gunfire': 16133, 'rallies': 16134, 'gods': 16135, 'kava': 16136, 'intellegence': 16137, 'irreplaceable': 16138, 'civility': 16139, 'decriminalizing': 16140, 'craft': 16141, 'partnered': 16142, 'confounded': 16143, 'interpreting': 16144, 'suing': 16145, '💜💜': 16146, 'drainthedeepstateswamp': 16147, 'wep': 16148, 'diplomacy': 16149, 'internets': 16150, 'everything😆': 16151, \"another's\": 16152, '💞💖💕💜💛💓': 16153, 'walkawayfromdemocrats2018': 16154, 'dangerousdemocrats': 16155, 'illigal': 16156, 'squeeze': 16157, '❌❌': 16158, '🤔🤔🤔🤔': 16159, 'demension': 16160, 'emma': 16161, 'gonzalez': 16162, 'nola': 16163, 'democ': 16164, 'detrimental': 16165, 'ohhhhhh': 16166, 'bitch😂': 16167, 'chin': 16168, 'champ': 16169, 'bitch💀': 16170, 'supermajority': 16171, '1950s': 16172, 'opportunities': 16173, 'wecall': 16174, 'sonnuva': 16175, 'virus': 16176, 'completion': 16177, 'quitter': 16178, 'wtaf': 16179, 'chu': 16180, 'discourse': 16181, 'generators': 16182, 'ishii': 16183, 'aura': 16184, 'palmer': 16185, 'tagging': 16186, 'stubby': 16187, 'investigates': 16188, '🏴': 16189, '☠': 16190, 'execution': 16191, 'politicians‼': 16192, 'interference': 16193, 'kindergarten': 16194, 'inferred': 16195, 'qualifying': 16196, 'arsenal': 16197, '✊': 16198, 'libnut': 16199, 'roasted': 16200, 'vaccine': 16201, 'imwithsnoop': 16202, 'buttercup': 16203, 'condemns': 16204, 'siobhan': 16205, \"clp's\": 16206, 'constituency': 16207, 'thanknyou': 16208, 'pare': 16209, 'offset': 16210, 'plunge': 16211, 'forevaaaaaaaaaaa': 16212, '👯': 16213, 'nuetral': 16214, '💀😂': 16215, 'commiting': 16216, 'sneaking': 16217, \"criminal's\": 16218, 'ptotus': 16219, 'amazes': 16220, 'boycottcolinjost': 16221, 'profoundly': 16222, 'noted': 16223, 'waltzing': 16224, 'peanut': 16225, 'belong🌌🖤🖤': 16226, 'pollutors': 16227, 'ping': 16228, 'pong': 16229, 'starved': 16230, 'vision🍁mission': 16231, \"williamson's\": 16232, 'dershowitz': 16233, 'democommunists': 16234, 'allready': 16235, 'molestors': 16236, 'rockthe36': 16237, 'votedayna': 16238, 'sparking': 16239, 'transmission': 16240, 'goku': 16241, 'outstanding': 16242, '👍👍👍👍': 16243, 'journos': 16244, 'rely': 16245, 'investigative': 16246, '2018s': 16247, 'neoliberal': 16248, 'bullsh1t': 16249, '👶🏻': 16250, 'entrance': 16251, 'requirement': 16252, 'ballerinas': 16253, 'goalpost': 16254, 'mazie': 16255, 'sensationalism': 16256, 'islamist': 16257, 'wreath': 16258, 'gophypocrites': 16259, 'unemployable': 16260, 'brexiters': 16261, 'jackoff': 16262, 'steam': 16263, 'powered': 16264, 'beeching': 16265, 'brock': 16266, 'cult45politburo': 16267, \"long's\": 16268, 'looneyleft': 16269, 'qproofs': 16270, 'harrowing': 16271, 'unclassifie': 16272, 'cent': 16273, 'yalls': 16274, 'man😀😀😀': 16275, 'gentleman': 16276, 'slinging': 16277, 'viewing': 16278, 'diagnosis': 16279, 'remainer': 16280, 'dozen': 16281, 'dhudbe': 16282, '2k19': 16283, 'mi': 16284, 'rosoft': 16285, 'absolutist': 16286, 'unoffensive': 16287, 'chastise': 16288, 'friendsandfamily': 16289, 'reich': 16290, 'jacobreesmogg': 16291, \"'chequers\": 16292, 'primeminister': 16293, 'mobilized': 16294, '👏🏾': 16295, 'plannedparenthood': 16296, 'usgoverment': 16297, 'savethe8th': 16298, 'repealthe8th': 16299, \"ted's\": 16300, 'bitc': 16301, 'teamtani': 16302, 'osuite': 16303, 'deregionised': 16304, 'ivana': 16305, \"devil's\": 16306, 'wasca': 16307, 'steelers': 16308, 'bah': 16309, 'ian': 16310, 'sinclair': 16311, 'polygrapher': 16312, 'nervous': 16313, 'swiss': 16314, 'lowkie': 16315, 'revived': 16316, '👏🏻👏🏻👏🏻': 16317, 'holton': 16318, 'pious': 16319, 'spiritual': 16320, 'tarzan': 16321, '😿': 16322, 'cuckoo': 16323, 'cuase': 16324, 'laught': 16325, 'standin': 16326, 'challenging': 16327, 'experiences': 16328, 'preached': 16329, 'ethiopia': 16330, 'costly': 16331, 'promo': 16332, 'maulis': 16333, 'handicapped': 16334, 'nanos': 16335, 'boondoggles': 16336, 'brittany': 16337, 'stretching': 16338, 'releasethevideo': 16339, 'desrerved': 16340, 'continent': 16341, '2050': 16342, 'wheeling': 16343, 'vetting': 16344, 'disgracing': 16345, 'graduated': 16346, 'maple': 16347, 'negotiator': 16348, 'extraordinaire': 16349, 'jan': 16350, 'painter👍😍😍😍😎😎😎👌': 16351, '6d': 16352, 'whitesupremacists': 16353, 'magaveterans': 16354, 'magatalk': 16355, 'designer': 16356, 'firemalyoung': 16357, 'rodenbury': 16358, 'advocated': 16359, 'bloc': 16360, 'baaaaaaaa': 16361, 'charted': 16362, 'immigrating': 16363, 'initial': 16364, 'grandmom': 16365, 'theliberalway': 16366, 'kdksksks': 16367, 'etiquette': 16368, 'moderation': 16369, 'naheru': 16370, 'zina': 16371, 'indira': 16372, 'taller': 16373, \"'senate\": 16374, \"opioids'\": 16375, '1986': 16376, 'achtung': 16377, 'hungarian': 16378, '💃💃💃💃💃💃💃💃💃💃😂😂😂😂😂': 16379, 'fr': 16380, 'bore': 16381, 'tracksuit': 16382, 'concocted': 16383, 'fearful': 16384, 'thereby': 16385, 'prolong': 16386, 'ayumi': 16387, 'hurts😞😞': 16388, 'interracial': 16389, 'aftermath': 16390, 'dementia': 16391, 'flustered': 16392, 'licked': 16393, 'keen': 16394, 'leather': 16395, 'lifetimes': 16396, 'obummer': 16397, 'mia': 16398, 'mbappe': 16399, \"g'night\": 16400, 'clients': 16401, '15am': 16402, 'schedule': 16403, 'arrogance': 16404, 'buttmunch': 16405, 'dontmessaroundwith': 16406, 'rockwell': 16407, 'sharialaw': 16408, 'misery': 16409, 'longed': 16410, '1950': 16411, 'patreon': 16412, 'whispering': 16413, 'backstabbing': 16414, 'whores': 16415, 'hillaryous': 16416, 'waa': 16417, 'realest': 16418, 'tealest': 16419, 'quetsiyah': 16420, 'amara': 16421, 'silas': 16422, 'disclosing': 16423, 'proposals': 16424, 'vacillate': 16425, 'deceiving': 16426, 'fk': 16427, 'tbere': 16428, 'unintelligible': 16429, 'robo': 16430, 'starbucks': 16431, 'charms': 16432, 'plethora': 16433, 'peruse': 16434, 'jamming': 16435, 'ju': 16436, 'vault': 16437, 'tranquility': 16438, 'crookedtrump': 16439, 'countrybeforeparty': 16440, 'dragged': 16441, 'qu': 16442, 'niece': 16443, 'unplanned': 16444, 'thinkers': 16445, 'crookedmedia': 16446, 'oyela': 16447, 'appropriate': 16448, 'lest': 16449, 'applied': 16450, 'oneself': 16451, 'misled': 16452, 'lee': 16453, 'urgent': 16454, '🤔😡': 16455, 'clintonfoundation': 16456, 'clintoncrimes': 16457, 'backstabber': 16458, 'craves': 16459, 'nude': 16460, 'bovine': 16461, 'fecal': 16462, 'yougov': 16463, 'premise': 16464, 'yah': 16465, 'tagged': 16466, '🤭🤔😂': 16467, 'luves': 16468, 'admendment': 16469, 'fortunately': 16470, 'fleas': 16471, 'uppercut': 16472, 'steppenwolf': 16473, 'igl': 16474, 'mure': 16475, 'prepwork': 16476, 'niko': 16477, 'mibr': 16478, 'fallen': 16479, 'karrigan': 16480, 'cartel': 16481, 'u6': 16482, \"moron's\": 16483, 'charges': 16484, 'stained': 16485, 'peed': 16486, 'fkn': 16487, 'fatnixon': 16488, 'digusting': 16489, 'cruzcrew': 16490, 'voteredtosavetexas': 16491, 'voteredtosaveflorida': 16492, 'lvmpd': 16493, 'vegasshooting': 16494, 'scamming': 16495, 'bork': 16496, 'lane🤔': 16497, 'blvd🤔': 16498, 'avenue🤔': 16499, 'kavannah': 16500, 'demonic': 16501, 'gpsent': 16502, 'traced': 16503, 'takedown': 16504, 'evs': 16505, 'hybrid': 16506, \"campus's\": 16507, 'witnessed': 16508, 'nassar': 16509, 'leaders': 16510, 'leech': 16511, \"soros's\": 16512, '😂🙄': 16513, 'graph': 16514, 'notbakingyourcake': 16515, 'proudtolovejesus': 16516, 'scrunchie': 16517, 'crocs': 16518, 'pea': 16519, '💓💕': 16520, 'charismatic': 16521, 'fiiiiiine': 16522, \"philippine's\": 16523, 'cpp': 16524, 'npa': 16525, 'il': 16526, 'buehler': 16527, 'kremlin': 16528, 'justsaying': 16529, 'habs': 16530, 'gladly': 16531, 'irredeemable': 16532, 'gropy': 16533, \"6'7\": 16534, 'membbbqers': 16535, 'bullshitting': 16536, 'dtmag': 16537, 'cowering': 16538, 'verse': 16539, 'ferengi': 16540, 'ambrose': 16541, 'lwhen': 16542, '37': 16543, 'springer': 16544, 'welfareforall': 16545, 'iatrogenesis': 16546, 'biassed': 16547, 'robotic': 16548, 'loli': 16549, \"sweden's\": 16550, 'feminizing': 16551, 'genderless': 16552, 'tyr': 16553, 'typo': 16554, 'keita': 16555, 'selfless': 16556, '☺😊': 16557, 'facsicm': 16558, 'kuniva': 16559, 'studio': 16560, 'rants': 16561, 'knowmandni': 16562, 'satochi': 16563, 'puhlease': 16564, 'kiki': 16565, 'ggg': 16566, 'antichrist': 16567, 'demons': 16568, 'obamaworstpresidentever': 16569, 'ucp': 16570, 'needy': 16571, 'equivocal': 16572, 'diluted': 16573, 'suggests': 16574, 'gratitude': 16575, 'economist': 16576, 'diannefeinstein': 16577, 'fittest': 16578, 'inequality': 16579, 'entitlements': 16580, 'epa': 16581, 'glbl': 16582, 'wrm': 16583, '😂😂😂😂😂😂': 16584, \"'schumer\": 16585, \"vote'\": 16586, \"holder's\": 16587, '😥': 16588, 'hitter': 16589, 'snead': 16590, 'tattoos': 16591, 'partybeforecountry': 16592, 'massmedia': 16593, 'hasbeen': 16594, 'below': 16595, 'polled': 16596, 'necessarily': 16597, 'gaza': 16598, 'shifting': 16599, 'permanently😂😂': 16600, 'nile': 16601, 'jeopardizing': 16602, 'shielding': 16603, 'nana': 16604, 'mcbuckets': 16605, 'westbrook': 16606, 'murkowski': 16607, '😂yep': 16608, 'paragon': 16609, 'interactive': 16610, 'sliding': 16611, 'stoneman': 16612, 'douglas': 16613, 'khabib': 16614, 'guyyyy': 16615, 'glare': 16616, 'pillow': 16617, 'violates': 16618, 'feet': 16619, 'carl': 16620, 'paladino': 16621, 'neighboring': 16622, 'ala': 16623, 'funner': 16624, 'bubbler': 16625, 'wonna': 16626, 'dbld': 16627, 'sash': 16628, \"di'd\": 16629, 'boggling': 16630, 'acquainted': 16631, 'elpizo': 16632, 'mmz2': 16633, 'tastethebarbierainbow': 16634, 'legendary': 16635, 'catering': 16636, 'relates': 16637, 'pansies': 16638, 'hurtng': 16639, 'wrecking': 16640, 'towns': 16641, '😉😍😘you': 16642, '😉😍😘😘': 16643, 'lpfirsttime': 16644, 'comingggg': 16645, '1870': 16646, 'webberforcongress': 16647, 'nj11': 16648, 'cognitivedissonance': 16649, 'comprehend': 16650, 'homophobic': 16651, 'fanboys': 16652, 'fangirls': 16653, 'crooks': 16654, 'importation': 16655, 'relevance': 16656, 'netherlandstaxhaven': 16657, 'uh': 16658, 'wasn': 16659, 'pretentious': 16660, 'housemate': 16661, 'cringeworthy': 16662, 'bbuk': 16663, 'kek': 16664, 'profiting': 16665, 'dogooodthers': 16666, 'lawyers': 16667, 'assisting': 16668, 'senegalese': 16669, 'ordner': 16670, 'reagiert': 16671, 'niedersachsen': 16672, 'shakin': 16673, 'sixty': 16674, 'johny': 16675, 'takendted': 16676, 'bethesda': 16677, 'gangsta': 16678, 'hills': 16679, 'telegram': 16680, 'infringing': 16681, 'restricted': 16682, 'differant': 16683, \"partner's\": 16684, \"1worldonline's\": 16685, 'polloftheday': 16686, 'brie': 16687, '2445times': 16688, 'sims': 16689, 'intuitive': 16690, 'ginseng': 16691, 'menopausal': 16692, 'enjoys': 16693, '22m': 16694, 'tourism': 16695, 'legalizes': 16696, 'consumer': 16697, 'biz': 16698, 'tourismjobs': 16699, 'uspoli': 16700, 'uspolitics': 16701, 'thoroughly': 16702, 'engaging': 16703, 'poitician': 16704, 'lighten': 16705, \"'makes'\": 16706, 'concede': 16707, 'ohio': 16708, 'damigo': 16709, '➖👉🏿gun': 16710, 'congratz': 16711, 'attn': 16712, 'barbz': 16713, 'mmmmmm': 16714, 'edible': 16715, 'advertise': 16716, 'crabcakes': 16717, 'rugrats': 16718, 'usb': 16719, 'token': 16720, 'revelation': 16721, 'sanctioned': 16722, 'humanitarian': 16723, '92k': 16724, 'fee': 16725, '255k': 16726, 'woul': 16727, 'hawk': 16728, 'yelp': 16729, 'staple': 16730, 'hamburger': 16731, '1999': 16732, 'wreckage': 16733, 'culo': 16734, 'raison': 16735, \"d'etre\": 16736, 'whoopin': 16737, 'dupes': 16738, 'beign': 16739, 'acct': 16740, 'hogwash': 16741, 'overstate': 16742, 'importance': 16743, 'sicily': 16744, 'notions': 16745, 'sads': 16746, 'suprematist': 16747, 'becos': 16748, \"weeb'tifa\": 16749, 'wanker': 16750, '👏🏼👏🏼👏🏼👏🏼👏🏼👏🏼👏🏼these': 16751, 'remanics': 16752, 'perpetuating': 16753, 'thankstrump': 16754, \"'start'\": 16755, \"'numbers'\": 16756, \"'any'\": 16757, \"'all'\": 16758, \"'necessary'\": 16759, \"'refugees'\": 16760, \"'terrorist\": 16761, \"criminals'\": 16762, \"'cowards'\": 16763, \"'return'\": 16764, \"'their\": 16765, \"lands'\": 16766, \"'fight'\": 16767, 'refugeesnotwelcome': 16768, 'simon': 16769, 'ketterer': 16770, 'kettterer': 16771, 'battling': 16772, 'playin': 16773, '⁉': 16774, 'hits': 16775, 'hiya': 16776, 'bolna': 16777, 'xxx': 16778, \"cincinnati'\": 16779, \"f'off\": 16780, 'freely': 16781, 'razzinfrazzinmaggle': 16782, 'cardboard': 16783, 'haunted': 16784, 'cardigan': 16785, 'methinks': 16786, 'trolly': 16787, 'cower': 16788, 'assad': 16789, 'nicer': 16790, '🤣lots': 16791, '🤣💩💩😆': 16792, 'blemish': 16793, '😭😂': 16794, 'cricket': 16795, 'clintoncrimefamily': 16796, 'hws': 16797, 'kendall': 16798, 'sisters': 16799, 'khloe': 16800, 'kylie': 16801, 'fillers': 16802, 'overdue': 16803, '🍆': 16804, 'vetsresistsquadron': 16805, 'scout': 16806, 'veterans': 16807, 'appraiser': 16808, 'inspection': 16809, 'smirky': 16810, 'indifferent': 16811, '1921': 16812, 'rotated': 16813, 'gliding': 16814, 'pitted': 16815, 'nuances': 16816, 'asses': 16817, 'refund': 16818, 'hr': 16819, 'processing': 16820, 'dreamt': 16821, 'vastly': 16822, 'overrated': 16823, 'googled': 16824, 'bea': 16825, 'arthur': 16826, 'coconut': 16827, 'rub': 16828, 'bedtime': 16829, 'virulently': 16830, 'mercifully': 16831, 'verbally': 16832, 'showman': 16833, 'pipes😍': 16834, 'obstructionist': 16835, 'elevate': 16836, 'zeroed': 16837, 'unclean': 16838, '😟😕': 16839, 'everyrhing': 16840, 'nipigon': 16841, 'hijack': 16842, 'kav': 16843, 'enabling': 16844, 'cem': 16845, 'zeyal': 16846, 'alihan': 16847, 'yasakelma': 16848, 'sonnykiriakis': 16849, 'willhorton': 16850, 'freddiesmith': 16851, 'chandlermassey': 16852, 'lolol': 16853, 'offenses': 16854, '👏👏': 16855, 'remarry': 16856, 'monsta': 16857, 'lightweight': 16858, '💯have': 16859, 'grest': 16860, 'edwsrd': 16861, 'recourse': 16862, 'mistreatment': 16863, 'thinly': 16864, 'veiled': 16865, 'flirting': 16866, 'wanktavists': 16867, 'spared': 16868, \"there'd\": 16869, 'abusuve': 16870, 'amorphous': 16871, 'faceless': 16872, 'everchanging': 16873, 'jerome': 16874, 'corsi': 16875, 'morrison': 16876, 'achieved': 16877, 'unsuitable': 16878, 'trumper': 16879, '💥putting': 16880, 'state💥': 16881, \"o'keefe\": 16882, 'forum': 16883, 'conspiracynomore': 16884, 'patriotswin': 16885, 'trumptreason': 16886, 'thetruthshallsetusfree': 16887, 'dyke': 16888, 'legislate': 16889, 'picks': 16890, 'breitbarters': 16891, 'evert': 16892, 'normally': 16893, 'you🎶': 16894, 'degrom': 16895, 'homeruns': 16896, 'careeeema': 16897, 'faggot': 16898, 'logan': 16899, 'zac': 16900, 'goldsmith': 16901, \"khan's\": 16902, 'organiser': 16903, 'marcy': 16904, 'redistributing': 16905, 'menu': 16906, 'slop': 16907, 'iraqi': 16908, \"'90's\": 16909, 'transphobic': 16910, 'commiseration': 16911, 'brioche': 16912, 'cinnamon': 16913, 'm100': 16914, 'fundedbynyandhollywoodleftistsbutpretendingtobeatexan': 16915, 'mo': 16916, 'bandana': 16917, 'gimmie': 16918, 'sanctimony': 16919, 'weasel': 16920, '🤫🤫🤣😜😜😜': 16921, 'neighbourhood': 16922, 'hamstrung': 16923, 'alleslve': 16924, 'vodka': 16925, 'radicalized': 16926, 'feminazis': 16927, 'luigi': 16928, '😘😩❤': 16929, 'pond': 16930, 'inclineed': 16931, 'rting': 16932, 'counterprotests': 16933, 'ahahaha': 16934, 'cattle': 16935, 'tanzania': 16936, 'pictured': 16937, 'aubree': 16938, \"creationist's\": 16939, 'breastfeeding': 16940, 'cruelty': 16941, 'yutz': 16942, 'cosnstitution': 16943, 'farwell': 16944, 'totalitarain': 16945, 'memoir': 16946, \"'none'\": 16947, \"'waste'\": 16948, 'flannel': 16949, 'frankoz': 16950, 'defundpbs': 16951, 'pogba👍': 16952, 'invent': 16953, 'fumes😂': 16954}\n"
     ]
    }
   ],
   "source": [
    "tokenizer = Tokenizer(num_words=vocab_size, oov_token=oov_tok)\n",
    "tokenizer.fit_on_texts(data_train)\n",
    "word2int = tokenizer.word_index\n",
    "print(word2int)\n"
   ]
  },
  {
   "cell_type": "code",
   "execution_count": 21,
   "metadata": {
    "tags": []
   },
   "outputs": [],
   "source": [
    "train_sequences = tokenizer.texts_to_sequences(data_train)\n",
    "train_padded = pad_sequences(train_sequences, maxlen=max_length, padding=padding_type, truncating=trunc_type)\n",
    "\n",
    "valid_sequences = tokenizer.texts_to_sequences(data_valid)\n",
    "valid_padded = pad_sequences(valid_sequences, maxlen=max_length, padding=padding_type, truncating=trunc_type)\n",
    "\n"
   ]
  },
  {
   "source": [
    "# Glove Embeddings\n",
    "References: https://edumunozsala.github.io/BlogEms/jupyter/nlp/classification/embeddings/python/2020/08/15/Intro_NLP_WordEmbeddings_Classification.html"
   ],
   "cell_type": "markdown",
   "metadata": {}
  },
  {
   "cell_type": "code",
   "execution_count": 22,
   "metadata": {},
   "outputs": [],
   "source": [
    "glove_path = \"embeddings/glove.840B.300d.txt\""
   ]
  },
  {
   "cell_type": "code",
   "execution_count": 23,
   "metadata": {},
   "outputs": [],
   "source": [
    "def get_word_vectors(word, *arr):\n",
    "    return word, np.array(arr, dtype = 'float32')"
   ]
  },
  {
   "cell_type": "code",
   "execution_count": 24,
   "metadata": {},
   "outputs": [],
   "source": [
    "def build_embedddings(embedding_path, word2int):\n",
    "    embeddings = dict(get_word_vectors(*x.strip().split(\" \")) for x in open(embedding_path))\n",
    "\n",
    "    nwords = min(vocab_size, len(word2int))\n",
    "    embedding_matrix = np.zeros((nwords, embedding_size))\n",
    "\n",
    "    for word, index in word2int.items():\n",
    "        if index >=vocab_size:\n",
    "            continue\n",
    "\n",
    "        embedding_vec = embeddings.get(word)\n",
    "        if embedding_vec is not None:\n",
    "            embedding_matrix[index] = embedding_vec\n",
    "\n",
    "    return embedding_matrix\n",
    "\n",
    "\n"
   ]
  },
  {
   "cell_type": "code",
   "execution_count": 25,
   "metadata": {},
   "outputs": [],
   "source": [
    "glove_embeddings = build_embedddings(glove_path, word2int)"
   ]
  },
  {
   "cell_type": "code",
   "execution_count": 26,
   "metadata": {},
   "outputs": [
    {
     "output_type": "stream",
     "name": "stdout",
     "text": [
      "(10000, 300)\n"
     ]
    }
   ],
   "source": [
    "print(glove_embeddings.shape)"
   ]
  },
  {
   "source": [
    "# Emoji Embeddings"
   ],
   "cell_type": "markdown",
   "metadata": {}
  },
  {
   "cell_type": "code",
   "execution_count": 27,
   "metadata": {},
   "outputs": [],
   "source": [
    "# emoji embedding\n",
    "emoji_embed_path = \"embeddings/emoji2vec.txt\"\n"
   ]
  },
  {
   "cell_type": "code",
   "execution_count": 28,
   "metadata": {},
   "outputs": [],
   "source": [
    "emoji_embed_index = {}\n",
    "f = open(os.path.join(emoji_embed_path))\n",
    "for line in f:\n",
    "    values = line.split()\n",
    "    word = values[0]\n",
    "    coefs = np.asarray(values[1:], dtype='float32')\n",
    "    emoji_embed_index[word] = coefs\n",
    "f.close()\n",
    "\n",
    "nwords = min(vocab_size, len(word2int))\n",
    "\n",
    "emoji_embeddings = np.zeros((nwords, 300))\n",
    "for word, i in word2int.items():\n",
    "    if i >=vocab_size:\n",
    "        continue\n",
    "    embedding_vector = emoji_embed_index.get(word)\n",
    "    if embedding_vector is not None:\n",
    "        # words not found in embedding index will be all-zeros.\n",
    "        emoji_embeddings[i] = embedding_vector"
   ]
  },
  {
   "cell_type": "code",
   "execution_count": 29,
   "metadata": {},
   "outputs": [
    {
     "output_type": "execute_result",
     "data": {
      "text/plain": [
       "array([0., 0., 0., 0., 0., 0., 0., 0., 0., 0., 0., 0., 0., 0., 0., 0., 0.,\n",
       "       0., 0., 0., 0., 0., 0., 0., 0., 0., 0., 0., 0., 0., 0., 0., 0., 0.,\n",
       "       0., 0., 0., 0., 0., 0., 0., 0., 0., 0., 0., 0., 0., 0., 0., 0., 0.,\n",
       "       0., 0., 0., 0., 0., 0., 0., 0., 0., 0., 0., 0., 0., 0., 0., 0., 0.,\n",
       "       0., 0., 0., 0., 0., 0., 0., 0., 0., 0., 0., 0., 0., 0., 0., 0., 0.,\n",
       "       0., 0., 0., 0., 0., 0., 0., 0., 0., 0., 0., 0., 0., 0., 0., 0., 0.,\n",
       "       0., 0., 0., 0., 0., 0., 0., 0., 0., 0., 0., 0., 0., 0., 0., 0., 0.,\n",
       "       0., 0., 0., 0., 0., 0., 0., 0., 0., 0., 0., 0., 0., 0., 0., 0., 0.,\n",
       "       0., 0., 0., 0., 0., 0., 0., 0., 0., 0., 0., 0., 0., 0., 0., 0., 0.,\n",
       "       0., 0., 0., 0., 0., 0., 0., 0., 0., 0., 0., 0., 0., 0., 0., 0., 0.,\n",
       "       0., 0., 0., 0., 0., 0., 0., 0., 0., 0., 0., 0., 0., 0., 0., 0., 0.,\n",
       "       0., 0., 0., 0., 0., 0., 0., 0., 0., 0., 0., 0., 0., 0., 0., 0., 0.,\n",
       "       0., 0., 0., 0., 0., 0., 0., 0., 0., 0., 0., 0., 0., 0., 0., 0., 0.,\n",
       "       0., 0., 0., 0., 0., 0., 0., 0., 0., 0., 0., 0., 0., 0., 0., 0., 0.,\n",
       "       0., 0., 0., 0., 0., 0., 0., 0., 0., 0., 0., 0., 0., 0., 0., 0., 0.,\n",
       "       0., 0., 0., 0., 0., 0., 0., 0., 0., 0., 0., 0., 0., 0., 0., 0., 0.,\n",
       "       0., 0., 0., 0., 0., 0., 0., 0., 0., 0., 0., 0., 0., 0., 0., 0., 0.,\n",
       "       0., 0., 0., 0., 0., 0., 0., 0., 0., 0., 0.])"
      ]
     },
     "metadata": {},
     "execution_count": 29
    }
   ],
   "source": [
    "emoji_embeddings.shape\n",
    "emoji_embeddings[20]"
   ]
  },
  {
   "cell_type": "code",
   "execution_count": 30,
   "metadata": {},
   "outputs": [],
   "source": [
    "# combine embeddings globve and emoji\n",
    "\n",
    "# 1. concat\n",
    "concat_embed = np.hstack((glove_embeddings,emoji_embeddings))\n",
    "# 2. sum\n",
    "sum_embed = np.sum((glove_embeddings,emoji_embeddings),axis=0)\n",
    "# 3. mean\n",
    "mean_embed = np.mean((glove_embeddings,emoji_embeddings),axis=0)\n",
    "print(mean_embed.shape)"
   ]
  },
  {
   "source": [
    "# Building the model"
   ],
   "cell_type": "markdown",
   "metadata": {}
  },
  {
   "source": [
    "RNN architecture: Embedding layer of size 300 -> lstm layer with output of 32 dimension -> linear layer activated by relu -> softmax to get probability "
   ],
   "cell_type": "markdown",
   "metadata": {}
  },
  {
   "cell_type": "code",
   "execution_count": 100,
   "metadata": {},
   "outputs": [
    {
     "output_type": "execute_result",
     "data": {
      "text/plain": [
       "{0: 1.5196556671449069, 1: 0.7451808076544252}"
      ]
     },
     "metadata": {},
     "execution_count": 100
    }
   ],
   "source": [
    "# compute class weights : \"https://scikit-learn.org/stable/modules/generated/sklearn.utils.class_weight.compute_class_weight.html\"\n",
    "class_weights = class_weight.compute_class_weight(\n",
    "    class_weight = 'balanced',\n",
    "    classes = np.unique(y_train),\n",
    "    y = y_train)\n",
    "class_weights = dict(zip(np.unique(y_train), class_weights))\n",
    "class_weights\n"
   ]
  },
  {
   "source": [
    "Hyperparameter tuning"
   ],
   "cell_type": "markdown",
   "metadata": {}
  },
  {
   "cell_type": "code",
   "execution_count": 101,
   "metadata": {},
   "outputs": [],
   "source": [
    "# Training loop and early stopping \n",
    "\n",
    "callbacks = tf.keras.callbacks.EarlyStopping(\n",
    "    monitor=\"val_loss\",mode=\"auto\", patience = 5, restore_best_weights=True)\n",
    "n_epochs = 25"
   ]
  },
  {
   "cell_type": "code",
   "execution_count": 102,
   "metadata": {},
   "outputs": [],
   "source": [
    "model = tf.keras.models.Sequential()\n",
    "model.add(tf.keras.layers.Embedding(\n",
    "    vocab_size, mean_embed.shape[1], \n",
    "    embeddings_initializer=tf.keras.initializers.Constant(mean_embed),\n",
    "    input_length=max_length,trainable=True))\n",
    "model.add(tf.keras.layers.Bidirectional(tf.keras.layers.LSTM(64, return_sequences = True)))\n",
    "model.add(tf.keras.layers.Bidirectional(tf.keras.layers.LSTM(30, return_sequences = True)))\n",
    "model.add(tf.keras.layers.GlobalMaxPool1D())\n",
    "model.add(tf.keras.layers.Dense(100, activation=\"relu\"))\n",
    "model.add(tf.keras.layers.Dense(20, activation=\"relu\"))\n",
    "model.add(tf.keras.layers.Dropout(0.05))\n",
    "model.add(tf.keras.layers.Dense(1, activation=\"sigmoid\"))\n",
    "model.compile(loss='binary_crossentropy', optimizer='adam', metrics=['accuracy'])\n"
   ]
  },
  {
   "cell_type": "code",
   "execution_count": 103,
   "metadata": {},
   "outputs": [
    {
     "output_type": "stream",
     "name": "stdout",
     "text": [
      "Epoch 1/25\n",
      "83/83 - 37s - loss: 0.5957 - accuracy: 0.7035 - val_loss: 0.5129 - val_accuracy: 0.7474\n",
      "Epoch 2/25\n",
      "83/83 - 32s - loss: 0.4446 - accuracy: 0.8014 - val_loss: 0.5241 - val_accuracy: 0.7458\n",
      "Epoch 3/25\n",
      "83/83 - 33s - loss: 0.3410 - accuracy: 0.8556 - val_loss: 0.5745 - val_accuracy: 0.7477\n",
      "Epoch 4/25\n",
      "83/83 - 32s - loss: 0.2562 - accuracy: 0.8980 - val_loss: 0.6389 - val_accuracy: 0.7356\n",
      "Epoch 5/25\n",
      "83/83 - 31s - loss: 0.1865 - accuracy: 0.9332 - val_loss: 0.7959 - val_accuracy: 0.7205\n",
      "Epoch 6/25\n",
      "83/83 - 32s - loss: 0.1425 - accuracy: 0.9486 - val_loss: 0.9937 - val_accuracy: 0.7077\n"
     ]
    }
   ],
   "source": [
    "model_trained = model.fit(train_padded, y_train, batch_size=128, epochs = n_epochs, \n",
    "verbose=2, class_weight=class_weights,validation_data=(valid_padded, y_valid), callbacks = [callbacks])"
   ]
  },
  {
   "cell_type": "code",
   "execution_count": 104,
   "metadata": {},
   "outputs": [],
   "source": [
    "test_sequences = tokenizer.texts_to_sequences(data_test)\n",
    "test_padded = pad_sequences(test_sequences, maxlen=max_length, padding=padding_type, truncating=trunc_type)"
   ]
  },
  {
   "cell_type": "code",
   "execution_count": 105,
   "metadata": {},
   "outputs": [
    {
     "output_type": "execute_result",
     "data": {
      "text/plain": [
       "{'loss': [0.5956702828407288,\n",
       "  0.4446066915988922,\n",
       "  0.3410485088825226,\n",
       "  0.2561594843864441,\n",
       "  0.18646255135536194,\n",
       "  0.1424805372953415],\n",
       " 'accuracy': [0.703549861907959,\n",
       "  0.8013595342636108,\n",
       "  0.8556457757949829,\n",
       "  0.8980362415313721,\n",
       "  0.9331570863723755,\n",
       "  0.9486404657363892],\n",
       " 'val_loss': [0.5129021406173706,\n",
       "  0.5240870118141174,\n",
       "  0.5744538307189941,\n",
       "  0.6388956904411316,\n",
       "  0.7958868145942688,\n",
       "  0.9937204718589783],\n",
       " 'val_accuracy': [0.7473564743995667,\n",
       "  0.7458459138870239,\n",
       "  0.7477341294288635,\n",
       "  0.7356495261192322,\n",
       "  0.7205438017845154,\n",
       "  0.7077039480209351]}"
      ]
     },
     "metadata": {},
     "execution_count": 105
    }
   ],
   "source": [
    "model_trained.history"
   ]
  },
  {
   "cell_type": "code",
   "execution_count": 106,
   "metadata": {},
   "outputs": [
    {
     "output_type": "execute_result",
     "data": {
      "text/plain": [
       "Text(0, 0.5, 'Accuracy')"
      ]
     },
     "metadata": {},
     "execution_count": 106
    },
    {
     "output_type": "display_data",
     "data": {
      "text/plain": "<Figure size 432x288 with 1 Axes>",
      "image/png": "[encoded data removed]"
     },
     "metadata": {
      "needs_background": "light"
     }
    }
   ],
   "source": [
    "# PLotting accuracy of train\n",
    "import matplotlib.pyplot as plt\n",
    "plt.plot(model_trained.history['accuracy'])\n",
    "plt.xlabel('Epochs')\n",
    "plt.ylabel('Accuracy')\n"
   ]
  },
  {
   "cell_type": "code",
   "execution_count": 107,
   "metadata": {},
   "outputs": [
    {
     "output_type": "execute_result",
     "data": {
      "text/plain": [
       "Text(0, 0.5, 'Validation Accuracy')"
      ]
     },
     "metadata": {},
     "execution_count": 107
    },
    {
     "output_type": "display_data",
     "data": {
      "text/plain": "<Figure size 432x288 with 1 Axes>",
      "image/png": "[encoded data removed]"
     },
     "metadata": {
      "needs_background": "light"
     }
    }
   ],
   "source": [
    "# PLotting accuracy of train\n",
    "import matplotlib.pyplot as plt\n",
    "plt.plot(model_trained.history['val_accuracy'])\n",
    "plt.xlabel('Epochs')\n",
    "plt.ylabel('Validation Accuracy')"
   ]
  },
  {
   "cell_type": "code",
   "execution_count": 108,
   "metadata": {},
   "outputs": [
    {
     "output_type": "stream",
     "name": "stdout",
     "text": [
      "27/27 [==============================] - 1s 42ms/step - loss: 0.4481 - accuracy: 0.7930\n",
      "[0.44814208149909973, 0.7930232286453247]\n"
     ]
    }
   ],
   "source": [
    "\n",
    "print(model.evaluate(test_padded,y_test))\n"
   ]
  },
  {
   "cell_type": "code",
   "execution_count": 110,
   "metadata": {},
   "outputs": [
    {
     "output_type": "stream",
     "name": "stdout",
     "text": [
      "7/7 [==============================] - 1s 107ms/step\n",
      "              precision    recall  f1-score   support\n",
      "\n",
      "           0       0.61      0.70      0.65       240\n",
      "           1       0.88      0.83      0.85       620\n",
      "\n",
      "    accuracy                           0.79       860\n",
      "   macro avg       0.75      0.76      0.75       860\n",
      "weighted avg       0.80      0.79      0.80       860\n",
      "\n"
     ]
    }
   ],
   "source": [
    "from sklearn.metrics import classification_report\n",
    "\n",
    "y_pred = model.predict(test_padded, batch_size=128, verbose=1)\n",
    "#y_pred_bool = np.argmax(y_pred, axis=1)\n",
    "y_pred = (y_pred>0.5)\n",
    "print(classification_report(y_test, y_pred))"
   ]
  },
  {
   "cell_type": "code",
   "execution_count": null,
   "metadata": {},
   "outputs": [],
   "source": []
  },
  {
   "cell_type": "code",
   "execution_count": null,
   "metadata": {},
   "outputs": [],
   "source": []
  },
  {
   "cell_type": "code",
   "execution_count": null,
   "metadata": {},
   "outputs": [],
   "source": []
  }
 ]
}